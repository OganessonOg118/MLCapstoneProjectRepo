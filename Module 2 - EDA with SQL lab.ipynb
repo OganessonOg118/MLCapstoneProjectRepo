{
    "cells": [
        {
            "cell_type": "markdown",
            "id": "f360e787-401d-4612-93e7-ffe6b7b3fd62",
            "metadata": {},
            "source": "<p style=\"text-align:center\">\n    <a href=\"https://skills.network/?utm_medium=Exinfluencer&utm_source=Exinfluencer&utm_content=000026UJ&utm_term=10006555&utm_id=NA-SkillsNetwork-Channel-SkillsNetworkCoursesIBMDS0321ENSkillsNetwork865-2023-01-01\">\n    <img src=\"https://cf-courses-data.s3.us.cloud-object-storage.appdomain.cloud/assets/logos/SN_web_lightmode.png\" width=\"200\" alt=\"Skills Network Logo\"  />\n    </a>\n</p>\n\n<h1 align=center><font size = 5>Assignment: SQL Notebook for Peer Assignment</font></h1>\n\nEstimated time needed: **60** minutes.\n\n## Introduction\nUsing this Python notebook you will:\n\n1.  Understand the Spacex DataSet\n2.  Load the dataset  into the corresponding table in a Db2 database\n3.  Execute SQL queries to answer assignment questions \n"
        },
        {
            "cell_type": "markdown",
            "id": "5b7d6f8b-7efe-4f28-826e-1d4f736c8445",
            "metadata": {},
            "source": "## Overview of the DataSet\n\nSpaceX has gained worldwide attention for a series of historic milestones. \n\nIt is the only private company ever to return a spacecraft from low-earth orbit, which it first accomplished in December 2010.\nSpaceX advertises Falcon 9 rocket launches on its website with a cost of 62 million dollars wheras other providers cost upward of 165 million dollars each, much of the savings is because Space X can reuse the first stage. \n\n\nTherefore if we can determine if the first stage will land, we can determine the cost of a launch. \n\nThis information can be used if an alternate company wants to bid against SpaceX for a rocket launch.\n\nThis dataset includes a record for each payload carried during a SpaceX mission into outer space.\n"
        },
        {
            "cell_type": "markdown",
            "id": "92e5d108-4558-43f2-9fbd-6ab9741436cf",
            "metadata": {},
            "source": "### Download the datasets\n\nThis assignment requires you to load the spacex dataset.\n\nIn many cases the dataset to be analyzed is available as a .CSV (comma separated values) file, perhaps on the internet. Click on the link below to download and save the dataset (.CSV file):\n\n <a href=\"https://cf-courses-data.s3.us.cloud-object-storage.appdomain.cloud/IBM-DS0321EN-SkillsNetwork/labs/module_2/data/Spacex.csv\" target=\"_blank\">Spacex DataSet</a>\n\n"
        },
        {
            "cell_type": "markdown",
            "id": "d4ef484c-d003-4e0f-b250-287be18a49b1",
            "metadata": {},
            "source": "**Navigate to Go to UI screen** \n\n* Refer to this insruction in this <a href=\"https://cf-courses-data.s3.us.cloud-object-storage.appdomain.cloud/IBMDeveloperSkillsNetwork-DB0201EN-SkillsNetwork/labs/Labs_Coursera_V5/labs/Lab%20-%20Sign%20up%20for%20IBM%20Cloud%20-%20Create%20Db2%20service%20instance%20-%20Get%20started%20with%20the%20Db2%20console/instructional-labs.md.html\">link</a> for viewing  the  Go to UI screen. \n\n\n* Later click on **Data link(below SQL)**  in the Go to UI screen  and click on **Load Data** tab.  \n\n\n\n* Later browse for the downloaded spacex file.\n\n\n\n<img src=\"https://cf-courses-data.s3.us.cloud-object-storage.appdomain.cloud/IBM-DS0321EN-SkillsNetwork/labs/module_2/images/browsefile.png\" width=\"800\">\n\n\n* Once done select the schema andload the file.  \n\n\n <img src=\"https://cf-courses-data.s3.us.cloud-object-storage.appdomain.cloud/IBM-DS0321EN-SkillsNetwork/labs/module_2/images/spacexload3.png\" width=\"800\">\n \n"
        },
        {
            "cell_type": "markdown",
            "id": "c48e5db1-3652-48ef-8370-df30fb05d214",
            "metadata": {},
            "source": "\n\nIf you are facing a problem in uploading the dataset (which is a csv file), you can follow the steps below to upload the .sql file instead of the CSV file:\n\n* Download the file <a href=\"https://cf-courses-data.s3.us.cloud-object-storage.appdomain.cloud/IBM-DS0321EN-SkillsNetwork/datasets/Spacex%20.sql\">Spacex.sql</a>\n\n* Later click on **SQL** in the  **Go to UI Screen**.\n\n* Use the **From file** option to browse for the **SQL** file and upload it.\n\n<img src=\"https://cf-courses-data.s3.us.cloud-object-storage.appdomain.cloud/IBM-DS0321EN-SkillsNetwork/labs/module_2/images/sqlfile.png\">\n\n* Once you upload the script,you can use the **Run All** option to run all the queries to insert the data.\n\n<img src=\"https://cf-courses-data.s3.us.cloud-object-storage.appdomain.cloud/IBM-DS0321EN-SkillsNetwork/labs/module_2/images/runall.png\">\n"
        },
        {
            "cell_type": "code",
            "execution_count": 1,
            "id": "02e66f39-0505-49d4-9d63-0773ef634640",
            "metadata": {},
            "outputs": [
                {
                    "name": "stdout",
                    "output_type": "stream",
                    "text": "Collecting ibm_db==3.1.0\n  Using cached ibm_db-3.1.0-cp310-cp310-linux_x86_64.whl\nCollecting ibm_db_sa==0.3.3\n  Using cached ibm_db_sa-0.3.3-py3-none-any.whl\nCollecting sqlalchemy>=0.7.3\n  Using cached SQLAlchemy-2.0.8-cp310-cp310-manylinux_2_17_x86_64.manylinux2014_x86_64.whl (2.7 MB)\nCollecting greenlet!=0.4.17\n  Using cached greenlet-2.0.2-cp310-cp310-manylinux_2_17_x86_64.manylinux2014_x86_64.whl (613 kB)\nCollecting typing-extensions>=4.2.0\n  Using cached typing_extensions-4.5.0-py3-none-any.whl (27 kB)\nInstalling collected packages: ibm_db, typing-extensions, greenlet, sqlalchemy, ibm_db_sa\n  Attempting uninstall: ibm_db\n    Found existing installation: ibm-db 3.1.0\n    Uninstalling ibm-db-3.1.0:\n      Successfully uninstalled ibm-db-3.1.0\n  Attempting uninstall: typing-extensions\n    Found existing installation: typing_extensions 4.5.0\n    Uninstalling typing_extensions-4.5.0:\n      Successfully uninstalled typing_extensions-4.5.0\n  Attempting uninstall: greenlet\n    Found existing installation: greenlet 2.0.2\n    Uninstalling greenlet-2.0.2:\n      Successfully uninstalled greenlet-2.0.2\n  Attempting uninstall: sqlalchemy\n    Found existing installation: SQLAlchemy 1.3.24\n    Uninstalling SQLAlchemy-1.3.24:\n      Successfully uninstalled SQLAlchemy-1.3.24\n  Attempting uninstall: ibm_db_sa\n    Found existing installation: ibm-db-sa 0.3.3\n    Uninstalling ibm-db-sa-0.3.3:\n      Successfully uninstalled ibm-db-sa-0.3.3\nSuccessfully installed greenlet-2.0.2 ibm_db-3.1.0 ibm_db_sa-0.3.3 sqlalchemy-2.0.8 typing-extensions-4.5.0\nCollecting sqlalchemy==1.3.24\n  Using cached SQLAlchemy-1.3.24-cp310-cp310-linux_x86_64.whl\nInstalling collected packages: sqlalchemy\n  Attempting uninstall: sqlalchemy\n    Found existing installation: SQLAlchemy 2.0.8\n    Uninstalling SQLAlchemy-2.0.8:\n      Successfully uninstalled SQLAlchemy-2.0.8\nSuccessfully installed sqlalchemy-1.3.24\nFound existing installation: ipython-sql 0.4.1\nUninstalling ipython-sql-0.4.1:\n  Successfully uninstalled ipython-sql-0.4.1\nCollecting ipython-sql==0.4.1\n  Using cached ipython_sql-0.4.1-py3-none-any.whl (21 kB)\nRequirement already satisfied: sqlalchemy>=0.6.7 in /opt/conda/envs/Python-3.10/lib/python3.10/site-packages (from ipython-sql==0.4.1) (1.3.24)\nRequirement already satisfied: six in /opt/conda/envs/Python-3.10/lib/python3.10/site-packages (from ipython-sql==0.4.1) (1.16.0)\nRequirement already satisfied: ipython>=1.0 in /opt/conda/envs/Python-3.10/lib/python3.10/site-packages (from ipython-sql==0.4.1) (8.4.0)\nRequirement already satisfied: prettytable<1 in /opt/conda/envs/Python-3.10/lib/python3.10/site-packages (from ipython-sql==0.4.1) (0.7.2)\nRequirement already satisfied: ipython-genutils>=0.1.0 in /opt/conda/envs/Python-3.10/lib/python3.10/site-packages (from ipython-sql==0.4.1) (0.2.0)\nRequirement already satisfied: sqlparse in /opt/conda/envs/Python-3.10/lib/python3.10/site-packages (from ipython-sql==0.4.1) (0.4.3)\nRequirement already satisfied: decorator in /opt/conda/envs/Python-3.10/lib/python3.10/site-packages (from ipython>=1.0->ipython-sql==0.4.1) (5.1.1)\nRequirement already satisfied: matplotlib-inline in /opt/conda/envs/Python-3.10/lib/python3.10/site-packages (from ipython>=1.0->ipython-sql==0.4.1) (0.1.6)\nRequirement already satisfied: pickleshare in /opt/conda/envs/Python-3.10/lib/python3.10/site-packages (from ipython>=1.0->ipython-sql==0.4.1) (0.7.5)\nRequirement already satisfied: prompt-toolkit!=3.0.0,!=3.0.1,<3.1.0,>=2.0.0 in /opt/conda/envs/Python-3.10/lib/python3.10/site-packages (from ipython>=1.0->ipython-sql==0.4.1) (3.0.20)\nRequirement already satisfied: pygments>=2.4.0 in /opt/conda/envs/Python-3.10/lib/python3.10/site-packages (from ipython>=1.0->ipython-sql==0.4.1) (2.11.2)\nRequirement already satisfied: jedi>=0.16 in /opt/conda/envs/Python-3.10/lib/python3.10/site-packages (from ipython>=1.0->ipython-sql==0.4.1) (0.18.1)\nRequirement already satisfied: backcall in /opt/conda/envs/Python-3.10/lib/python3.10/site-packages (from ipython>=1.0->ipython-sql==0.4.1) (0.2.0)\nRequirement already satisfied: setuptools>=18.5 in /opt/conda/envs/Python-3.10/lib/python3.10/site-packages (from ipython>=1.0->ipython-sql==0.4.1) (65.6.3)\nRequirement already satisfied: stack-data in /opt/conda/envs/Python-3.10/lib/python3.10/site-packages (from ipython>=1.0->ipython-sql==0.4.1) (0.2.0)\nRequirement already satisfied: traitlets>=5 in /opt/conda/envs/Python-3.10/lib/python3.10/site-packages (from ipython>=1.0->ipython-sql==0.4.1) (5.1.1)\nRequirement already satisfied: pexpect>4.3 in /opt/conda/envs/Python-3.10/lib/python3.10/site-packages (from ipython>=1.0->ipython-sql==0.4.1) (4.8.0)\nRequirement already satisfied: parso<0.9.0,>=0.8.0 in /opt/conda/envs/Python-3.10/lib/python3.10/site-packages (from jedi>=0.16->ipython>=1.0->ipython-sql==0.4.1) (0.8.3)\nRequirement already satisfied: ptyprocess>=0.5 in /opt/conda/envs/Python-3.10/lib/python3.10/site-packages (from pexpect>4.3->ipython>=1.0->ipython-sql==0.4.1) (0.7.0)\nRequirement already satisfied: wcwidth in /opt/conda/envs/Python-3.10/lib/python3.10/site-packages (from prompt-toolkit!=3.0.0,!=3.0.1,<3.1.0,>=2.0.0->ipython>=1.0->ipython-sql==0.4.1) (0.2.5)\nRequirement already satisfied: asttokens in /opt/conda/envs/Python-3.10/lib/python3.10/site-packages (from stack-data->ipython>=1.0->ipython-sql==0.4.1) (2.0.5)\nRequirement already satisfied: pure-eval in /opt/conda/envs/Python-3.10/lib/python3.10/site-packages (from stack-data->ipython>=1.0->ipython-sql==0.4.1) (0.2.2)\nRequirement already satisfied: executing in /opt/conda/envs/Python-3.10/lib/python3.10/site-packages (from stack-data->ipython>=1.0->ipython-sql==0.4.1) (0.8.3)\nInstalling collected packages: ipython-sql\nSuccessfully installed ipython-sql-0.4.1\n"
                }
            ],
            "source": "!pip install --force-reinstall ibm_db==3.1.0 ibm_db_sa==0.3.3\n!pip install sqlalchemy==1.3.24\n!pip uninstall ipython-sql -y\n!pip install ipython-sql==0.4.1"
        },
        {
            "cell_type": "markdown",
            "id": "1145c763-119a-432d-b9d6-2413c5ad63a4",
            "metadata": {},
            "source": "### Connect to the database\n\nLet us first load the SQL extension and establish a connection with the database\n"
        },
        {
            "cell_type": "code",
            "execution_count": 2,
            "id": "75e42156-604b-4de4-a213-2e9bf700806a",
            "metadata": {},
            "outputs": [],
            "source": "%load_ext sql"
        },
        {
            "cell_type": "markdown",
            "id": "8239bfe9-8769-43a0-b23d-498e3cb0099c",
            "metadata": {},
            "source": "\n\n**DB2 magic in case of  UI service credentials.**\n\n\n\n<img src=\"https://cf-courses-data.s3.us.cloud-object-storage.appdomain.cloud/IBM-DS0321EN-SkillsNetwork/labs/module_2/images/servicecredentials.png\" width=\"600\">  \n\n* Use the following format.\n\n* Add security=SSL at the end\n\n**%sql ibm_db_sa://my-username:my-password@my-hostname:my-port/my-db-name?security=SSL**\n"
        },
        {
            "cell_type": "code",
            "execution_count": 3,
            "id": "c55693ab-a92a-4bc5-bd80-f819819bf12b",
            "metadata": {},
            "outputs": [],
            "source": "%sql ibm_db_sa://rjr97973:jtKDCyJKCJ1NJIih@0c77d6f2-5da9-48a9-81f8-86b520b87518.bs2io90l08kqb1od8lcg.databases.appdomain.cloud:31198/bludb?security=SSL    \n"
        },
        {
            "cell_type": "markdown",
            "id": "e2d84550-5eee-4894-87f4-fe8209c365f4",
            "metadata": {},
            "source": "## Tasks\n\nNow write and execute SQL queries to solve the assignment tasks.\n\n### Task 1\n\n\n\n\n##### Display the names of the unique launch sites  in the space mission\n"
        },
        {
            "cell_type": "code",
            "execution_count": 8,
            "id": "2a6c97f0-b95f-49a2-a5c5-62016f1bd4d9",
            "metadata": {},
            "outputs": [
                {
                    "name": "stdout",
                    "output_type": "stream",
                    "text": " * ibm_db_sa://rjr97973:***@0c77d6f2-5da9-48a9-81f8-86b520b87518.bs2io90l08kqb1od8lcg.databases.appdomain.cloud:31198/bludb\nDone.\n"
                },
                {
                    "data": {
                        "text/html": "<table>\n    <tr>\n        <th>launch_site</th>\n    </tr>\n    <tr>\n        <td>CCAFS LC-40</td>\n    </tr>\n    <tr>\n        <td>CCAFS SLC-40</td>\n    </tr>\n    <tr>\n        <td>KSC LC-39A</td>\n    </tr>\n    <tr>\n        <td>VAFB SLC-4E</td>\n    </tr>\n</table>",
                        "text/plain": "[('CCAFS LC-40',), ('CCAFS SLC-40',), ('KSC LC-39A',), ('VAFB SLC-4E',)]"
                    },
                    "execution_count": 8,
                    "metadata": {},
                    "output_type": "execute_result"
                }
            ],
            "source": "%sql SELECT DISTINCT LAUNCH_SITE FROM SPACEX;"
        },
        {
            "cell_type": "markdown",
            "id": "b3ff0742-9696-48ea-bfe1-6bafd6459271",
            "metadata": {},
            "source": "\n### Task 2\n\n\n#####  Display 5 records where launch sites begin with the string 'KSC' \n"
        },
        {
            "cell_type": "code",
            "execution_count": 22,
            "id": "7e937bd5-ffb3-4435-a29b-08f606b673fb",
            "metadata": {},
            "outputs": [
                {
                    "name": "stdout",
                    "output_type": "stream",
                    "text": " * ibm_db_sa://rjr97973:***@0c77d6f2-5da9-48a9-81f8-86b520b87518.bs2io90l08kqb1od8lcg.databases.appdomain.cloud:31198/bludb\nDone.\n"
                },
                {
                    "data": {
                        "text/html": "<table>\n    <tr>\n        <th>DATE</th>\n        <th>time_utc</th>\n        <th>booster_version</th>\n        <th>launch_site</th>\n        <th>payload</th>\n        <th>payload_mass_kg_</th>\n        <th>orbit</th>\n        <th>customer</th>\n        <th>mission_outcome</th>\n        <th>landing_outcome</th>\n    </tr>\n    <tr>\n        <td>2017-02-19</td>\n        <td>14:39:00</td>\n        <td>F9 FT B1031.1</td>\n        <td>KSC LC-39A</td>\n        <td>SpaceX CRS-10</td>\n        <td>2490</td>\n        <td>LEO (ISS)</td>\n        <td>NASA (CRS)</td>\n        <td>Success</td>\n        <td>Success (ground pad)</td>\n    </tr>\n    <tr>\n        <td>2017-03-16</td>\n        <td>6:00:00</td>\n        <td>F9 FT B1030</td>\n        <td>KSC LC-39A</td>\n        <td>EchoStar 23</td>\n        <td>5600</td>\n        <td>GTO</td>\n        <td>EchoStar</td>\n        <td>Success</td>\n        <td>No attempt</td>\n    </tr>\n    <tr>\n        <td>2017-03-30</td>\n        <td>22:27:00</td>\n        <td>F9 FT  B1021.2</td>\n        <td>KSC LC-39A</td>\n        <td>SES-10</td>\n        <td>5300</td>\n        <td>GTO</td>\n        <td>SES</td>\n        <td>Success</td>\n        <td>Success (drone ship)</td>\n    </tr>\n    <tr>\n        <td>2017-05-01</td>\n        <td>11:15:00</td>\n        <td>F9 FT B1032.1</td>\n        <td>KSC LC-39A</td>\n        <td>NROL-76</td>\n        <td>5300</td>\n        <td>LEO</td>\n        <td>NRO</td>\n        <td>Success</td>\n        <td>Success (ground pad)</td>\n    </tr>\n    <tr>\n        <td>2017-05-15</td>\n        <td>23:21:00</td>\n        <td>F9 FT B1034</td>\n        <td>KSC LC-39A</td>\n        <td>Inmarsat-5 F4</td>\n        <td>6070</td>\n        <td>GTO</td>\n        <td>Inmarsat</td>\n        <td>Success</td>\n        <td>No attempt</td>\n    </tr>\n</table>",
                        "text/plain": "[(datetime.date(2017, 2, 19), '14:39:00', 'F9 FT B1031.1', 'KSC LC-39A', 'SpaceX CRS-10', 2490, 'LEO (ISS)', 'NASA (CRS)', 'Success', 'Success (ground pad)'),\n (datetime.date(2017, 3, 16), '6:00:00', 'F9 FT B1030', 'KSC LC-39A', 'EchoStar 23', 5600, 'GTO', 'EchoStar', 'Success', 'No attempt'),\n (datetime.date(2017, 3, 30), '22:27:00', 'F9 FT  B1021.2', 'KSC LC-39A', 'SES-10', 5300, 'GTO', 'SES', 'Success', 'Success (drone ship)'),\n (datetime.date(2017, 5, 1), '11:15:00', 'F9 FT B1032.1', 'KSC LC-39A', 'NROL-76', 5300, 'LEO', 'NRO', 'Success', 'Success (ground pad)'),\n (datetime.date(2017, 5, 15), '23:21:00', 'F9 FT B1034', 'KSC LC-39A', 'Inmarsat-5 F4', 6070, 'GTO', 'Inmarsat', 'Success', 'No attempt')]"
                    },
                    "execution_count": 22,
                    "metadata": {},
                    "output_type": "execute_result"
                }
            ],
            "source": "%sql SELECT * FROM SPACEX WHERE LAUNCH_SITE LIKE 'KSC%' LIMIT 5;"
        },
        {
            "cell_type": "markdown",
            "id": "4b55d4ef-339a-40da-8a8c-3f4b31b0f940",
            "metadata": {},
            "source": "### Task 3\n\n\n\n\n##### Display the total payload mass carried by boosters launched by NASA (CRS)\n"
        },
        {
            "cell_type": "code",
            "execution_count": 25,
            "id": "9add26db-fa4b-409f-8b72-06d53714db84",
            "metadata": {},
            "outputs": [
                {
                    "name": "stdout",
                    "output_type": "stream",
                    "text": " * ibm_db_sa://rjr97973:***@0c77d6f2-5da9-48a9-81f8-86b520b87518.bs2io90l08kqb1od8lcg.databases.appdomain.cloud:31198/bludb\nDone.\n"
                },
                {
                    "data": {
                        "text/html": "<table>\n    <tr>\n        <th>sum_payloadmass</th>\n    </tr>\n    <tr>\n        <td>45596</td>\n    </tr>\n</table>",
                        "text/plain": "[(45596,)]"
                    },
                    "execution_count": 25,
                    "metadata": {},
                    "output_type": "execute_result"
                }
            ],
            "source": "%sql SELECT SUM(PAYLOAD_MASS_KG_) AS SUM_PAYLOADMASS FROM SPACEX WHERE CUSTOMER = 'NASA (CRS)';"
        },
        {
            "cell_type": "markdown",
            "id": "f93c49e5-beca-4a03-a566-a2ca39d8c7a2",
            "metadata": {},
            "source": "### Task 4\n\n\n\n\n##### Display average payload mass carried by booster version F9 v1.1\n"
        },
        {
            "cell_type": "code",
            "execution_count": 27,
            "id": "d6209c19-758c-41cf-a799-d4d2283399b0",
            "metadata": {},
            "outputs": [
                {
                    "name": "stdout",
                    "output_type": "stream",
                    "text": " * ibm_db_sa://rjr97973:***@0c77d6f2-5da9-48a9-81f8-86b520b87518.bs2io90l08kqb1od8lcg.databases.appdomain.cloud:31198/bludb\nDone.\n"
                },
                {
                    "data": {
                        "text/html": "<table>\n    <tr>\n        <th>avg_payloadmass</th>\n    </tr>\n    <tr>\n        <td>2928</td>\n    </tr>\n</table>",
                        "text/plain": "[(2928,)]"
                    },
                    "execution_count": 27,
                    "metadata": {},
                    "output_type": "execute_result"
                }
            ],
            "source": "%sql SELECT AVG(PAYLOAD_MASS_KG_) AS AVG_PAYLOADMASS FROM SPACEX WHERE BOOSTER_VERSION= 'F9 v1.1';"
        },
        {
            "cell_type": "markdown",
            "id": "7a428bc6-edef-4cc8-aa47-5c3c1e582fe1",
            "metadata": {},
            "source": "### Task 5\n\n##### List the date where the first successful landing outcome in drone ship was acheived.\n\n\n_Hint:Use min function_ \n"
        },
        {
            "cell_type": "code",
            "execution_count": 30,
            "id": "73602860-a448-4548-86d5-8154fd1403e3",
            "metadata": {},
            "outputs": [
                {
                    "name": "stdout",
                    "output_type": "stream",
                    "text": " * ibm_db_sa://rjr97973:***@0c77d6f2-5da9-48a9-81f8-86b520b87518.bs2io90l08kqb1od8lcg.databases.appdomain.cloud:31198/bludb\nDone.\n"
                },
                {
                    "data": {
                        "text/html": "<table>\n    <tr>\n        <th>first_success</th>\n    </tr>\n    <tr>\n        <td>2015-12-22</td>\n    </tr>\n</table>",
                        "text/plain": "[(datetime.date(2015, 12, 22),)]"
                    },
                    "execution_count": 30,
                    "metadata": {},
                    "output_type": "execute_result"
                }
            ],
            "source": "%sql SELECT MIN(DATE) AS FIRST_SUCCESS FROM SPACEX WHERE LANDING_OUTCOME LIKE 'Success%';"
        },
        {
            "cell_type": "markdown",
            "id": "07bb52f7-afa4-4374-8d07-059de975c5a9",
            "metadata": {},
            "source": "### Task 6\n\n##### List the names of the boosters which have success in ground pad  and have payload mass greater than 4000 but less than 6000\n"
        },
        {
            "cell_type": "code",
            "execution_count": 33,
            "id": "2a29c1bd-98cd-45f7-a85d-7c59bd64c841",
            "metadata": {},
            "outputs": [
                {
                    "name": "stdout",
                    "output_type": "stream",
                    "text": " * ibm_db_sa://rjr97973:***@0c77d6f2-5da9-48a9-81f8-86b520b87518.bs2io90l08kqb1od8lcg.databases.appdomain.cloud:31198/bludb\nDone.\n"
                },
                {
                    "data": {
                        "text/html": "<table>\n    <tr>\n        <th>booster_version</th>\n    </tr>\n    <tr>\n        <td>F9 FT B1032.1</td>\n    </tr>\n    <tr>\n        <td>F9 B4 B1040.1</td>\n    </tr>\n    <tr>\n        <td>F9 B4 B1043.1</td>\n    </tr>\n</table>",
                        "text/plain": "[('F9 FT B1032.1',), ('F9 B4 B1040.1',), ('F9 B4 B1043.1',)]"
                    },
                    "execution_count": 33,
                    "metadata": {},
                    "output_type": "execute_result"
                }
            ],
            "source": "%sql SELECT BOOSTER_VERSION FROM SPACEX WHERE LANDING_OUTCOME='Success (ground pad)' AND PAYLOAD_MASS_KG_ BETWEEN 4000 AND 6000;"
        },
        {
            "cell_type": "markdown",
            "id": "951d7882-19f3-4da2-b165-3ee4b1358f2d",
            "metadata": {},
            "source": "### Task 7\n\n\n\n\n##### List the total number of successful and failure mission outcomes\n"
        },
        {
            "cell_type": "code",
            "execution_count": 36,
            "id": "5b26a922-768f-49bd-ad05-2bd1eac6625c",
            "metadata": {},
            "outputs": [
                {
                    "name": "stdout",
                    "output_type": "stream",
                    "text": " * ibm_db_sa://rjr97973:***@0c77d6f2-5da9-48a9-81f8-86b520b87518.bs2io90l08kqb1od8lcg.databases.appdomain.cloud:31198/bludb\nDone.\n"
                },
                {
                    "data": {
                        "text/html": "<table>\n    <tr>\n        <th>mission_outcome</th>\n        <th>count_outcome</th>\n    </tr>\n    <tr>\n        <td>Failure (in flight)</td>\n        <td>1</td>\n    </tr>\n    <tr>\n        <td>Success</td>\n        <td>99</td>\n    </tr>\n    <tr>\n        <td>Success (payload status unclear)</td>\n        <td>1</td>\n    </tr>\n</table>",
                        "text/plain": "[('Failure (in flight)', 1),\n ('Success', 99),\n ('Success (payload status unclear)', 1)]"
                    },
                    "execution_count": 36,
                    "metadata": {},
                    "output_type": "execute_result"
                }
            ],
            "source": "%sql SELECT MISSION_OUTCOME,COUNT(MISSION_OUTCOME) AS COUNT_OUTCOME FROM SPACEX GROUP BY MISSION_OUTCOME;"
        },
        {
            "cell_type": "markdown",
            "id": "584c6c6c-2b6d-4c5b-bd69-e107249fea4e",
            "metadata": {},
            "source": "### Task 8\n\n\n\n##### List the   names of the booster_versions which have carried the maximum payload mass. Use a subquery\n"
        },
        {
            "cell_type": "code",
            "execution_count": 37,
            "id": "72c84cb7-3a43-4cff-9748-da65968089d1",
            "metadata": {},
            "outputs": [
                {
                    "name": "stdout",
                    "output_type": "stream",
                    "text": " * ibm_db_sa://rjr97973:***@0c77d6f2-5da9-48a9-81f8-86b520b87518.bs2io90l08kqb1od8lcg.databases.appdomain.cloud:31198/bludb\nDone.\n"
                },
                {
                    "data": {
                        "text/html": "<table>\n    <tr>\n        <th>booster_version</th>\n    </tr>\n    <tr>\n        <td>F9 B5 B1048.4</td>\n    </tr>\n    <tr>\n        <td>F9 B5 B1049.4</td>\n    </tr>\n    <tr>\n        <td>F9 B5 B1051.3</td>\n    </tr>\n    <tr>\n        <td>F9 B5 B1056.4</td>\n    </tr>\n    <tr>\n        <td>F9 B5 B1048.5</td>\n    </tr>\n    <tr>\n        <td>F9 B5 B1051.4</td>\n    </tr>\n    <tr>\n        <td>F9 B5 B1049.5</td>\n    </tr>\n    <tr>\n        <td>F9 B5 B1060.2</td>\n    </tr>\n    <tr>\n        <td>F9 B5 B1058.3</td>\n    </tr>\n    <tr>\n        <td>F9 B5 B1051.6</td>\n    </tr>\n    <tr>\n        <td>F9 B5 B1060.3</td>\n    </tr>\n    <tr>\n        <td>F9 B5 B1049.7</td>\n    </tr>\n</table>",
                        "text/plain": "[('F9 B5 B1048.4',),\n ('F9 B5 B1049.4',),\n ('F9 B5 B1051.3',),\n ('F9 B5 B1056.4',),\n ('F9 B5 B1048.5',),\n ('F9 B5 B1051.4',),\n ('F9 B5 B1049.5',),\n ('F9 B5 B1060.2',),\n ('F9 B5 B1058.3',),\n ('F9 B5 B1051.6',),\n ('F9 B5 B1060.3',),\n ('F9 B5 B1049.7',)]"
                    },
                    "execution_count": 37,
                    "metadata": {},
                    "output_type": "execute_result"
                }
            ],
            "source": "%sql SELECT BOOSTER_VERSION FROM SPACEX WHERE PAYLOAD_MASS_KG_=(SELECT MAX(PAYLOAD_MASS_KG_) FROM SPACEX)"
        },
        {
            "cell_type": "markdown",
            "id": "988c8d7f-f2c2-4756-b470-51f8ecf177ca",
            "metadata": {},
            "source": "### Task 9\n\n\n##### List the records which will display the month names, succesful landing_outcomes in ground pad ,booster versions, launch_site for the months in year 2017\n"
        },
        {
            "cell_type": "code",
            "execution_count": 47,
            "id": "d3d9225b-1160-4c48-9bd1-9e59f84ddd04",
            "metadata": {},
            "outputs": [
                {
                    "name": "stdout",
                    "output_type": "stream",
                    "text": " * ibm_db_sa://rjr97973:***@0c77d6f2-5da9-48a9-81f8-86b520b87518.bs2io90l08kqb1od8lcg.databases.appdomain.cloud:31198/bludb\nDone.\n"
                },
                {
                    "data": {
                        "text/html": "<table>\n    <tr>\n        <th>month_name</th>\n        <th>landing_outcome</th>\n        <th>booster_version</th>\n        <th>launch_site</th>\n    </tr>\n    <tr>\n        <td>February</td>\n        <td>Success (ground pad)</td>\n        <td>F9 FT B1031.1</td>\n        <td>KSC LC-39A</td>\n    </tr>\n    <tr>\n        <td>May</td>\n        <td>Success (ground pad)</td>\n        <td>F9 FT B1032.1</td>\n        <td>KSC LC-39A</td>\n    </tr>\n    <tr>\n        <td>June</td>\n        <td>Success (ground pad)</td>\n        <td>F9 FT B1035.1</td>\n        <td>KSC LC-39A</td>\n    </tr>\n    <tr>\n        <td>August</td>\n        <td>Success (ground pad)</td>\n        <td>F9 B4 B1039.1</td>\n        <td>KSC LC-39A</td>\n    </tr>\n    <tr>\n        <td>September</td>\n        <td>Success (ground pad)</td>\n        <td>F9 B4 B1040.1</td>\n        <td>KSC LC-39A</td>\n    </tr>\n    <tr>\n        <td>December</td>\n        <td>Success (ground pad)</td>\n        <td>F9 FT  B1035.2</td>\n        <td>CCAFS SLC-40</td>\n    </tr>\n</table>",
                        "text/plain": "[('February', 'Success (ground pad)', 'F9 FT B1031.1', 'KSC LC-39A'),\n ('May', 'Success (ground pad)', 'F9 FT B1032.1', 'KSC LC-39A'),\n ('June', 'Success (ground pad)', 'F9 FT B1035.1', 'KSC LC-39A'),\n ('August', 'Success (ground pad)', 'F9 B4 B1039.1', 'KSC LC-39A'),\n ('September', 'Success (ground pad)', 'F9 B4 B1040.1', 'KSC LC-39A'),\n ('December', 'Success (ground pad)', 'F9 FT  B1035.2', 'CCAFS SLC-40')]"
                    },
                    "execution_count": 47,
                    "metadata": {},
                    "output_type": "execute_result"
                }
            ],
            "source": "%sql SELECT MONTHNAME(DATE) AS MONTH_NAME, LANDING_OUTCOME, BOOSTER_VERSION, LAUNCH_SITE FROM SPACEX WHERE LANDING_OUTCOME='Success (ground pad)' AND YEAR(DATE)=2017;"
        },
        {
            "cell_type": "markdown",
            "id": "68705435-0caf-4eb0-b431-613df2d49ebd",
            "metadata": {},
            "source": "### Task 10\n\n\n\n\n##### Rank the  count of  successful landing_outcomes between the date 2010-06-04 and 2017-03-20 in descending order.\n"
        },
        {
            "cell_type": "code",
            "execution_count": 49,
            "id": "f859f920-9ccc-4b1a-8f97-3e0526cd7f5d",
            "metadata": {},
            "outputs": [
                {
                    "name": "stdout",
                    "output_type": "stream",
                    "text": " * ibm_db_sa://rjr97973:***@0c77d6f2-5da9-48a9-81f8-86b520b87518.bs2io90l08kqb1od8lcg.databases.appdomain.cloud:31198/bludb\nDone.\n"
                },
                {
                    "data": {
                        "text/html": "<table>\n    <tr>\n        <th>landing_outcome</th>\n    </tr>\n    <tr>\n        <td>No attempt</td>\n    </tr>\n    <tr>\n        <td>Success (ground pad)</td>\n    </tr>\n    <tr>\n        <td>Success (drone ship)</td>\n    </tr>\n    <tr>\n        <td>Success (drone ship)</td>\n    </tr>\n    <tr>\n        <td>Success (ground pad)</td>\n    </tr>\n    <tr>\n        <td>Failure (drone ship)</td>\n    </tr>\n    <tr>\n        <td>Success (drone ship)</td>\n    </tr>\n    <tr>\n        <td>Success (drone ship)</td>\n    </tr>\n    <tr>\n        <td>Success (drone ship)</td>\n    </tr>\n    <tr>\n        <td>Failure (drone ship)</td>\n    </tr>\n    <tr>\n        <td>Failure (drone ship)</td>\n    </tr>\n    <tr>\n        <td>Success (ground pad)</td>\n    </tr>\n    <tr>\n        <td>Precluded (drone ship)</td>\n    </tr>\n    <tr>\n        <td>No attempt</td>\n    </tr>\n    <tr>\n        <td>Failure (drone ship)</td>\n    </tr>\n    <tr>\n        <td>No attempt</td>\n    </tr>\n    <tr>\n        <td>Controlled (ocean)</td>\n    </tr>\n    <tr>\n        <td>Failure (drone ship)</td>\n    </tr>\n    <tr>\n        <td>Uncontrolled (ocean)</td>\n    </tr>\n    <tr>\n        <td>No attempt</td>\n    </tr>\n    <tr>\n        <td>No attempt</td>\n    </tr>\n    <tr>\n        <td>Controlled (ocean)</td>\n    </tr>\n    <tr>\n        <td>Controlled (ocean)</td>\n    </tr>\n    <tr>\n        <td>No attempt</td>\n    </tr>\n    <tr>\n        <td>No attempt</td>\n    </tr>\n    <tr>\n        <td>Uncontrolled (ocean)</td>\n    </tr>\n    <tr>\n        <td>No attempt</td>\n    </tr>\n    <tr>\n        <td>No attempt</td>\n    </tr>\n    <tr>\n        <td>No attempt</td>\n    </tr>\n    <tr>\n        <td>Failure (parachute)</td>\n    </tr>\n    <tr>\n        <td>Failure (parachute)</td>\n    </tr>\n</table>",
                        "text/plain": "[('No attempt',),\n ('Success (ground pad)',),\n ('Success (drone ship)',),\n ('Success (drone ship)',),\n ('Success (ground pad)',),\n ('Failure (drone ship)',),\n ('Success (drone ship)',),\n ('Success (drone ship)',),\n ('Success (drone ship)',),\n ('Failure (drone ship)',),\n ('Failure (drone ship)',),\n ('Success (ground pad)',),\n ('Precluded (drone ship)',),\n ('No attempt',),\n ('Failure (drone ship)',),\n ('No attempt',),\n ('Controlled (ocean)',),\n ('Failure (drone ship)',),\n ('Uncontrolled (ocean)',),\n ('No attempt',),\n ('No attempt',),\n ('Controlled (ocean)',),\n ('Controlled (ocean)',),\n ('No attempt',),\n ('No attempt',),\n ('Uncontrolled (ocean)',),\n ('No attempt',),\n ('No attempt',),\n ('No attempt',),\n ('Failure (parachute)',),\n ('Failure (parachute)',)]"
                    },
                    "execution_count": 49,
                    "metadata": {},
                    "output_type": "execute_result"
                }
            ],
            "source": "%sql SELECT LANDING_OUTCOME FROM SPACEX WHERE DATE BETWEEN '2010-06-04' AND '2017-03-20' ORDER BY DATE DESC;\n"
        },
        {
            "cell_type": "markdown",
            "id": "80dd1053-1f3f-4994-a038-d4629facf4b8",
            "metadata": {},
            "source": "### Reference Links\n\n* <a href =\"https://cf-courses-data.s3.us.cloud-object-storage.appdomain.cloud/IBMDeveloperSkillsNetwork-DB0201EN-SkillsNetwork/labs/Module%203/LAB-String_Patterns_Sorting_Grouping.md.html\">Hands-on Lab : String Patterns, Sorting and Grouping</a>  \n\n*  <a  href=\"https://cf-courses-data.s3.us.cloud-object-storage.appdomain.cloud/IBMDeveloperSkillsNetwork-DB0201EN-SkillsNetwork/labs/Labs_Coursera_V5/labs/Lab%20-%20Built-in%20functions%20/Hands-on_Lab__Built-in_Functions.md.html\">Hands-on Lab: Built-in functions</a>\n\n*  <a  href=\"https://cf-courses-data.s3.us.cloud-object-storage.appdomain.cloud/IBMDeveloperSkillsNetwork-DB0201EN-SkillsNetwork/labs/Labs_Coursera_V5/labs/Lab%20-%20Sub-queries%20and%20Nested%20SELECTs%20/instructional-labs.md.html\">Hands-on Lab : Sub-queries and Nested SELECT Statements</a>\n\n*   <a href=\"https://cf-courses-data.s3.us.cloud-object-storage.appdomain.cloud/IBMDeveloperSkillsNetwork-DB0201EN-SkillsNetwork/labs/Module%205/DB0201EN-Week3-1-3-SQLmagic.ipynb\">Hands-on Tutorial: Accessing Databases with SQL magic</a>\n\n*  <a href= \"https://cf-courses-data.s3.us.cloud-object-storage.appdomain.cloud/IBMDeveloperSkillsNetwork-DB0201EN-SkillsNetwork/labs/Module%205/DB0201EN-Week3-1-4-Analyzing.ipynb\">Hands-on Lab: Analyzing a real World Data Set</a>\n"
        },
        {
            "cell_type": "markdown",
            "id": "56e84fd1-b813-4a86-96c5-b2b9d3a30ea7",
            "metadata": {},
            "source": "## Author(s)\n\n<h4> Lakshmi Holla </h4>\n"
        },
        {
            "cell_type": "markdown",
            "id": "ffae91d0-dfed-4c1e-b8e3-193d57fe63a5",
            "metadata": {},
            "source": "## Other Contributors\n\n<h4> Rav Ahuja </h4>\n"
        },
        {
            "cell_type": "markdown",
            "id": "14b7e789-0f0e-4271-bf17-957601225e90",
            "metadata": {},
            "source": "## Change log\n| Date | Version | Changed by | Change Description |\n|------|--------|--------|---------|\n| 2021-10-12 | 0.4 |Lakshmi Holla | Changed markdown|\n| 2021-08-24 | 0.3 |Lakshmi Holla | Added library update|\n| 2021-07-09 | 0.2 |Lakshmi Holla | Changes made in magic sql|\n| 2021-05-20 | 0.1 |Lakshmi Holla | Created Initial Version |\n"
        },
        {
            "cell_type": "markdown",
            "id": "4e05c482-2d44-481b-b1be-3704392294de",
            "metadata": {},
            "source": "## <h3 align=\"center\"> \u00a9 IBM Corporation 2021. All rights reserved. <h3/>\n"
        }
    ],
    "metadata": {
        "kernelspec": {
            "display_name": "Python 3.10",
            "language": "python",
            "name": "python3"
        },
        "language_info": {
            "codemirror_mode": {
                "name": "ipython",
                "version": 3
            },
            "file_extension": ".py",
            "mimetype": "text/x-python",
            "name": "python",
            "nbconvert_exporter": "python",
            "pygments_lexer": "ipython3",
            "version": "3.10.9"
        }
    },
    "nbformat": 4,
    "nbformat_minor": 4
}